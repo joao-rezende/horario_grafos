{
 "cells": [
  {
   "cell_type": "markdown",
   "metadata": {},
   "source": [
    "<h1>Universidade Federal de Lavras </h1>\n",
    "<h3>Trabalho Prático - GCC218</h3>\n",
    "<h2>04 Outubro 2019 / Semestre 02</h2>\n",
    "\n",
    "<p>Alunos:</p>\n",
    "<p>Fábio Tavares</p>\n",
    "<p>James Yuri </p>\n",
    "<p>João Vitor</p>\n",
    " \n",
    "<h1>Introdução</h1> \n",
    "<p>O planejamento de horários em instituições de ensino constitui um desafio para diretores e coordenadores pedagógicos. De fato, trata-se de uma tarefa passível a erros, devido ao seu caráter combinatório, e que exige demasiado tempo de elaboração. O problema consiste em designar horários a turmas já pré-estabelecidas. Neste trabalho a técnica de solução fundamenta-se na Teoria dos Grafos, mais precisamente no método de Coloração de vertice realizado por meio do algoritmo D-Satur com algumas adaptações.</p> \n",
    "<p>Na modelagem, os professores, horários e disciplinas foram representados como vértices\n",
    "do grafo bipartido e os requisitos como arestas ou atributos de arestas. Para exemplificar, um\n",
    "interesse de um professor em lecionar uma disciplina foi representado por uma aresta unindo os\n",
    "vertices do professor e da disciplina. Os vértices de horários foram usados como vértices de ligação\n",
    "entre os vértices de professores e disciplina, com o objetivo de criar um gargálo no grafo, garantindo\n",
    "a restrição de ocupação na agenda do professor. As preferências foram associadas a custos nas\n",
    "arestas que representam o interesse de um professor a uma disciplina.<p>\n",
    "<p>O problema apresentado caracteriza-se como Timetabling Problem(Problema de Horários) que, quando aplicado ao contexto educacional, consiste em agendar uma série de encontros entre alunos, professores e instituições de ensino como, por exemplo, aulas, exames, cursos, entre outras atividades inerentes a este contexto, satisfazendo a um conjunto de restrições (WERRA, 1985; SCHAERF, 1999).</p>\n",
    "<h1> MÉTODO DE SOLUÇÃO</h1>\n",
    "<p>Um grafo é um par G=(V ,E) , onde V é um conjunto finito e E um conjunto de subconjuntos de dois elementos de V . Os elementos de V são chamados vértices do grafo e os elementos de E são chamados de arestas do grafo. O método utilizado para solucionar o problema fundamenta-se na Teoria dos Grafos,mais precisamente na Coloração de vértices também conhecida como Coloração de Grafos.</p>\n"
   ]
  },
  {
   "cell_type": "code",
   "execution_count": 3,
   "metadata": {},
   "outputs": [],
   "source": [
    "import openpyxl\n",
    "class VertexData(object):\n",
    "    def __init__(self, vertexDataId, subject, schoolClass, teacher, classRestriction, teacherRestriction):\n",
    "        self.vertexDataId, self.subject, self.schoolClass, self.teacher = vertexDataId, subject, schoolClass, teacher\n",
    "        self.classRestriction = classRestriction\n",
    "        self.teacherRestriction = teacherRestriction\n",
    "        self.adjacents, self.schedule_id, self.saturation = [], None, -1"
   ]
  },
  {
   "cell_type": "markdown",
   "metadata": {},
   "source": [
    "<p>Abrindo e lendo colunas do arquivo "
   ]
  },
  {
   "cell_type": "code",
   "execution_count": 4,
   "metadata": {},
   "outputs": [],
   "source": [
    "path = \"./public/files/Escola_A.xlsx\"\n",
    "wbObj = openpyxl.load_workbook(path)\n",
    "schollData = wbObj['Dados']\n",
    "settings = wbObj['Configuracoes']\n",
    "classRestriction = wbObj['Restricoes Turma']\n",
    "teacherRestriction = wbObj['Restricao']"
   ]
  },
  {
   "cell_type": "markdown",
   "metadata": {},
   "source": [
    "<p>Criação dos horarios apartir da coluna configurações do arquivo</p>"
   ]
  },
  {
   "cell_type": "code",
   "execution_count": 5,
   "metadata": {},
   "outputs": [],
   "source": [
    "days_week = [\"Segunda\", \"Terça\", \"Quarta\", \"Quinta\", \"Sexta\"]\n",
    "schedules = []\n",
    "\n",
    "for day in days_week:\n",
    "    jump = True\n",
    "    for i, row in enumerate(settings.rows):\n",
    "        if(i > 0):\n",
    "            schedules.append(\"{} - {}\".format(day, row[0].value))"
   ]
  },
  {
   "cell_type": "markdown",
   "metadata": {},
   "source": [
    "<p>Adicionado as restrições da turma apartir da coluna Restrições turma que está no arquivo em uma lista e dicionário, respectivamente</p>"
   ]
  },
  {
   "cell_type": "code",
   "execution_count": 6,
   "metadata": {},
   "outputs": [],
   "source": [
    "allClassRestriction = []\n",
    "for i in range(len(classes)):\n",
    "    allClassRestriction.append([])\n",
    "\n",
    "for i, row in enumerate(classRestriction.rows):\n",
    "    if(i > 0):\n",
    "        scheduleRestriction = \"{} - {}\".format(row[2].value, row[1].value)\n",
    "        allClassRestriction[int(row[0].value) - 1].append(schedules.index(scheduleRestriction))"
   ]
  },
  {
   "cell_type": "markdown",
   "metadata": {},
   "source": [
    "<p>Adicionado as restrições dos professores apartir da coluna Restrições turma que está no arquivo em uma lista e dicionário, respectivamente</p>"
   ]
  },
  {
   "cell_type": "code",
   "execution_count": 7,
   "metadata": {},
   "outputs": [],
   "source": [
    "allTeacherRestriction = {}\n",
    "for teacher in teachers:\n",
    "    allTeacherRestriction[teacher] = []\n",
    "\n",
    "for i, row in enumerate(teacherRestriction.rows):\n",
    "    if(i > 0):\n",
    "        scheduleRestriction = \"{} - {}\".format(row[2].value, row[1].value)\n",
    "        allTeacherRestriction[row[0].value].append(schedules.index(scheduleRestriction))"
   ]
  },
  {
   "cell_type": "markdown",
   "metadata": {},
   "source": [
    "<p>Criação do grafo</p>"
   ]
  },
  {
   "cell_type": "code",
   "execution_count": 8,
   "metadata": {},
   "outputs": [],
   "source": [
    "vertex = []\n",
    "vertexListId = []\n",
    "\n",
    "n = 0\n"
   ]
  },
  {
   "cell_type": "markdown",
   "metadata": {},
   "source": [
    "<h2>matriz de conflitos</h2>\n",
    "<p>Nesse sentido, é necessária a construção de uma matriz de conflitos, também denominada de matriz de adjacência, desenvolvida através do tratamento dos dados extraídos do sistema da universidade. Essa matriz foi obtida por meio da comparação entre cada componente curricular em relação aos demais com o intuito de identificar os alunos\n",
    "matriculados em comum, esses alunos representaram os conflitos existentes entre os componentes.</p>"
   ]
  },
  {
   "cell_type": "markdown",
   "metadata": {},
   "source": [
    "<h1>Tecnologia utilizadas:</h1>\n",
    "<p><strong>Python: </strong>é uma linguagem de programação que permite trabalhar mais rapidamente e integrar seus sistemas com mais eficiência.</p>\n",
    "<p><strong>Openpyxl: </strong> é uma biblioteca Python para ler/gravar arquivos xlsx/xlsm/xltx/xltm do Excel.</p>\n"
   ]
  },
  {
   "cell_type": "markdown",
   "metadata": {},
   "source": [
    "<h1>Caracteristicado problema</h1>"
   ]
  },
  {
   "cell_type": "code",
   "execution_count": null,
   "metadata": {},
   "outputs": [],
   "source": []
  },
  {
   "cell_type": "code",
   "execution_count": null,
   "metadata": {},
   "outputs": [],
   "source": []
  },
  {
   "cell_type": "code",
   "execution_count": null,
   "metadata": {},
   "outputs": [],
   "source": []
  }
 ],
 "metadata": {
  "kernelspec": {
   "display_name": "Python 3",
   "language": "python",
   "name": "python3"
  },
  "language_info": {
   "codemirror_mode": {
    "name": "ipython",
    "version": 3
   },
   "file_extension": ".py",
   "mimetype": "text/x-python",
   "name": "python",
   "nbconvert_exporter": "python",
   "pygments_lexer": "ipython3",
   "version": "3.6.8"
  }
 },
 "nbformat": 4,
 "nbformat_minor": 2
}
