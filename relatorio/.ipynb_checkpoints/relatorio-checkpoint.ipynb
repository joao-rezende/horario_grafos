{
 "cells": [
  {
   "cell_type": "markdown",
   "metadata": {},
   "source": [
    "<h1>Universidade Federal de Lavras </h1>\n",
    "<h3>Trabalho Prático - GCC218</h3>\n",
    "<h2>04 Outubro 2019 / Semestre 02</h2>\n",
    "\n",
    "<p>Alunos:</p>\n",
    "<p>Fábio Tavares</p>\n",
    "<p>James Yuri </p>\n",
    "<p>João Vitor</p>\n",
    " \n",
    "<h1>Introdução</h1> \n",
    "<p>O planejamento de horários em instituições de ensino constitui um desafio para diretores e coordenadores pedagógicos. De fato, trata-se de uma tarefa passível a erros, devido ao seu caráter combinatório, e que exige demasiado tempo de elaboração. O problema consiste em designar horários a turmas já pré-estabelecidas. Neste trabalho a técnica de solução fundamenta-se na Teoria dos Grafos, mais precisamente no método de Coloração de vertice realizado por meio do algoritmo D-Satur com algumas adaptações.</p> \n",
    "<p>O problema apresentado caracteriza-se como Timetabling Problem(Problema de Horários) que, quando aplicado ao contexto educacional, consiste em agendar uma série de encontros entre alunos, professores e instituições de ensino como, por exemplo, aulas, exames, cursos, entre outras atividades inerentes a este contexto, satisfazendo a um conjunto de restrições (WERRA, 1985; SCHAERF, 1999).</p>\n",
    "<p>O problema apresentado faz parte da classe de problemas NP-Difícil, com isso nao consegue garantir que o problema seja resolvido em tem polinomal</p>\n",
    "\n"
   ]
  },
  {
   "cell_type": "markdown",
   "metadata": {},
   "source": [
    "<p>Na modelagem, os professores, horários e disciplinas foram representados como vértices\n",
    "do grafo bipartido e os requisitos como arestas ou atributos de arestas. Para exemplificar, um\n",
    "interesse de um professor em lecionar uma disciplina foi representado por uma aresta unindo os\n",
    "vertices do professor e da disciplina. Os vértices de horários foram usados como vértices de ligação\n",
    "entre os vértices de professores e disciplina, com o objetivo de criar um gargálo no grafo, garantindo\n",
    "a restrição de ocupação na agenda do professor. As preferências foram associadas a custos nas\n",
    "arestas que representam o interesse de um professor a uma disciplina.<p>"
   ]
  },
  {
   "cell_type": "markdown",
   "metadata": {},
   "source": [
    "![ModelagemGrafos.png](attachment:ModelagemGrafos.png)"
   ]
  },
  {
   "cell_type": "markdown",
   "metadata": {},
   "source": [
    "<h1> MÉTODO DE SOLUÇÃO</h1>\n",
    "<p>Um grafo é um par G=(V ,E) , onde V é um conjunto finito e E um conjunto de subconjuntos de dois elementos de V . Os elementos de V são chamados vértices do grafo e os elementos de E são chamados de arestas do grafo. O método utilizado para solucionar o problema fundamenta-se na Teoria dos Grafos,mais precisamente na Coloração de vértices também conhecida como Coloração de Grafos.</p>"
   ]
  },
  {
   "cell_type": "markdown",
   "metadata": {},
   "source": [
    "<p>Pensando no fato que cada escola tem horários de aula diferentes pegamos as informações dos horário da escola pela planilha que chamaremos de \"Configurações\".\n",
    "Depois de pegar as configurações da escola, colocamos em uma lista juntamente com a quantidade de dias da semana, forma uma lista com os horários, no formato (Dia da semana) - (Hora da aula).</p>"
   ]
  },
  {
   "cell_type": "code",
   "execution_count": null,
   "metadata": {},
   "outputs": [],
   "source": [
    "\n",
    "#Abrindo a planilha\n",
    "# path = \"/home/desenvolvedor2/Documentos/Python/horario_grafos/public/files/Escola_A.xlsx\"\n",
    "path = \"./public/files/Escola_A.xlsx\"\n",
    "wbObj = openpyxl.load_workbook(path)\n",
    "\n",
    "schollData = wbObj['Dados']\n",
    "settings = wbObj['Configuracoes']\n",
    "classRestriction = wbObj['Restricoes Turma']\n",
    "teacherRestriction = wbObj['Restricao']"
   ]
  },
  {
   "cell_type": "markdown",
   "metadata": {},
   "source": [
    "<p>Criação dos horarios apartir da coluna configurações do arquivo</p>"
   ]
  },
  {
   "cell_type": "code",
   "execution_count": null,
   "metadata": {},
   "outputs": [],
   "source": [
    "days_week = [\"Segunda\", \"Terça\", \"Quarta\", \"Quinta\", \"Sexta\"]\n",
    "schedules = []\n",
    "\n",
    "for day in days_week:\n",
    "    jump = True\n",
    "    for i, row in enumerate(settings.rows):\n",
    "        if(i > 0):\n",
    "            schedules.append(\"{} - {}\".format(day, row[0].value))"
   ]
  },
  {
   "cell_type": "markdown",
   "metadata": {},
   "source": [
    "<p>Para tratar as restrições de turma e professor, foi adicionado uma lista em cada vértice, contendo os índices do horário, referente a lista gerada acima, que o professor e a turma não podem ter.<p>"
   ]
  },
  {
   "cell_type": "markdown",
   "metadata": {},
   "source": [
    "<p>Adicionado as restrições da turma apartir da coluna Restrições turma que está no arquivo em uma lista e dicionário, respectivamente</p>"
   ]
  },
  {
   "cell_type": "code",
   "execution_count": 6,
   "metadata": {},
   "outputs": [],
   "source": [
    "allClassRestriction = []\n",
    "for i in range(len(classes)):\n",
    "    allClassRestriction.append([])\n",
    "\n",
    "for i, row in enumerate(classRestriction.rows):\n",
    "    if(i > 0):\n",
    "        scheduleRestriction = \"{} - {}\".format(row[2].value, row[1].value)\n",
    "        allClassRestriction[int(row[0].value) - 1].append(schedules.index(scheduleRestriction))"
   ]
  },
  {
   "cell_type": "markdown",
   "metadata": {},
   "source": [
    "<p>Adicionado as restrições dos professores apartir da coluna Restrições turma que está no arquivo em uma lista e dicionário, respectivamente</p>"
   ]
  },
  {
   "cell_type": "code",
   "execution_count": 7,
   "metadata": {},
   "outputs": [],
   "source": [
    "allTeacherRestriction = {}\n",
    "for teacher in teachers:\n",
    "    allTeacherRestriction[teacher] = []\n",
    "\n",
    "for i, row in enumerate(teacherRestriction.rows):\n",
    "    if(i > 0):\n",
    "        scheduleRestriction = \"{} - {}\".format(row[2].value, row[1].value)\n",
    "        allTeacherRestriction[row[0].value].append(schedules.index(scheduleRestriction))"
   ]
  },
  {
   "cell_type": "markdown",
   "metadata": {},
   "source": []
  },
  {
   "cell_type": "code",
   "execution_count": 8,
   "metadata": {},
   "outputs": [],
   "source": []
  },
  {
   "cell_type": "markdown",
   "metadata": {},
   "source": [
    "<h2>Lista dos vertices</h2>\n",
    "<p>Criação dos vértices que contém as informações da aula e adicionando todos os vértices em uma lista, tal vertice contém os seguintes atributos: identificador, matéria, turma, professor, lista com restrição da turma e lista com restrição do professor</p>"
   ]
  },
  {
   "cell_type": "code",
   "execution_count": null,
   "metadata": {},
   "outputs": [],
   "source": [
    "import openpyxl\n",
    "class VertexData(object):\n",
    "    def __init__(self, vertexDataId, subject, schoolClass, teacher, classRestriction, teacherRestriction):\n",
    "        self.vertexDataId, self.subject, self.schoolClass, self.teacher = vertexDataId, subject, schoolClass, teacher\n",
    "        self.classRestriction = classRestriction\n",
    "        self.teacherRestriction = teacherRestriction\n",
    "        self.adjacents, self.schedule_id, self.saturation = [], None, -1"
   ]
  },
  {
   "cell_type": "markdown",
   "metadata": {},
   "source": [
    "<p>Inicializando a lista de vértice e uma lista dos identificadores de cada vertice e n para 0, n no final do algoritimo será o numero de vértices e durante a execução do algoritimo será o id do vertice</p>"
   ]
  },
  {
   "cell_type": "code",
   "execution_count": null,
   "metadata": {},
   "outputs": [],
   "source": [
    "vertex = []\n",
    "vertexListId = []\n",
    "n = 0\n"
   ]
  },
  {
   "cell_type": "markdown",
   "metadata": {},
   "source": [
    "<h1>Tecnologia utilizadas:</h1>\n",
    "<p><strong>Python: </strong>é uma linguagem de programação que permite trabalhar mais rapidamente e integrar seus sistemas com mais eficiência.</p>\n",
    "<p><strong>Openpyxl: </strong> é uma biblioteca Python para ler/gravar arquivos xlsx/xlsm/xltx/xltm do Excel.</p>\n"
   ]
  },
  {
   "cell_type": "markdown",
   "metadata": {},
   "source": [
    "<h1>Caracteristicado problema</h1>"
   ]
  },
  {
   "cell_type": "code",
   "execution_count": null,
   "metadata": {},
   "outputs": [],
   "source": []
  },
  {
   "cell_type": "code",
   "execution_count": null,
   "metadata": {},
   "outputs": [],
   "source": []
  },
  {
   "cell_type": "code",
   "execution_count": null,
   "metadata": {},
   "outputs": [],
   "source": []
  }
 ],
 "metadata": {
  "kernelspec": {
   "display_name": "Python 3",
   "language": "python",
   "name": "python3"
  },
  "language_info": {
   "codemirror_mode": {
    "name": "ipython",
    "version": 3
   },
   "file_extension": ".py",
   "mimetype": "text/x-python",
   "name": "python",
   "nbconvert_exporter": "python",
   "pygments_lexer": "ipython3",
   "version": "3.6.8"
  }
 },
 "nbformat": 4,
 "nbformat_minor": 2
}
