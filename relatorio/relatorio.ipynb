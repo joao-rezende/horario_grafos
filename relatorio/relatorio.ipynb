{
 "cells": [
  {
   "cell_type": "markdown",
   "metadata": {},
   "source": [
    "<h1>Universidade Federal de Lavras </h1>\n",
    "<h3>Trabalho Prático - GCC218</h3>\n",
    "<h2>04 Outubro 2019 / Semestre 02</h2>\n",
    "\n",
    "<p>Alunos:</p>\n",
    "<p>Fábio Tavares</p>\n",
    "<p>James Yuri </p>\n",
    "<p>João Vitor</p>\n",
    " \n",
    "<h1>Introdução</h1> \n",
    "<p>O planejamento de horários em instituições de ensino constitui um desafio para diretores e coordenadores pedagógicos. De fato, trata-se de uma tarefa passível a erros, devido ao seu caráter combinatório, e que exige demasiado tempo de elaboração. O problema consiste em designar horários a turmas já pré-estabelecidas. Neste trabalho a técnica de solução fundamenta-se na Teoria dos Grafos, mais precisamente no método de Coloração de vertice realizado por meio do algoritmo D-Satur com algumas adaptações.</p> \n",
    "<p>O problema apresentado caracteriza-se como Timetabling Problem(Problema de Horários) que, quando aplicado ao contexto educacional, consiste em agendar uma série de encontros entre alunos, professores e instituições de ensino como, por exemplo, aulas, exames, cursos, entre outras atividades inerentes a este contexto, satisfazendo a um conjunto de restrições (WERRA, 1985; SCHAERF, 1999).</p>\n",
    "<p>O problema apresentado faz parte da classe de problemas NP-Difícil, com isso nao consegue garantir que o problema seja resolvido em tem polinomal</p>\n",
    "\n"
   ]
  },
  {
   "cell_type": "markdown",
   "metadata": {},
   "source": [
    "<h1>Modelagem</h1>\n",
    "<p>Na modelagem, os professores, horários e disciplinas foram representados como vértices\n",
    "do grafo bipartido e os requisitos como arestas ou atributos de arestas. Para exemplificar, um\n",
    "interesse de um professor em lecionar uma disciplina foi representado por uma aresta unindo os\n",
    "vertices do professor e da disciplina. Os vértices de horários foram usados como vértices de ligação\n",
    "entre os vértices de professores e disciplina, com o objetivo de criar um gargálo no grafo, garantindo\n",
    "a restrição de ocupação na agenda do professor. As preferências foram associadas a custos nas\n",
    "arestas que representam o interesse de um professor a uma disciplina.<p>"
   ]
  },
  {
   "cell_type": "markdown",
   "metadata": {},
   "source": [
    "![ModelagemGrafos.png](attachment:ModelagemGrafos.png)"
   ]
  },
  {
   "cell_type": "markdown",
   "metadata": {},
   "source": [
    "<h1> MÉTODO DE SOLUÇÃO</h1>\n",
    "<p>Um grafo é um par G=(V ,E) , onde V é um conjunto finito e E um conjunto de subconjuntos de dois elementos de V . Os elementos de V são chamados vértices do grafo e os elementos de E são chamados de arestas do grafo. O método utilizado para solucionar o problema fundamenta-se na Teoria dos Grafos,mais precisamente na Coloração de vértices também conhecida como Coloração de Grafos.</p>"
   ]
  },
  {
   "cell_type": "markdown",
   "metadata": {},
   "source": [
    "<p>Pensando no fato que cada escola tem horários de aula diferentes pegamos as informações dos horário da escola pela planilha que chamaremos de \"Configurações\". Depois de pegar as configurações da escola, colocamos em uma lista juntamente com a quantidade de dias da semana, forma uma lista com os horários, no formato (Dia da semana) - (Hora da aula).</p>"
   ]
  },
  {
   "cell_type": "code",
   "execution_count": 1,
   "metadata": {},
   "outputs": [
    {
     "ename": "NameError",
     "evalue": "name 'openpyxl' is not defined",
     "output_type": "error",
     "traceback": [
      "\u001b[0;31m---------------------------------------------------------------------------\u001b[0m",
      "\u001b[0;31mNameError\u001b[0m                                 Traceback (most recent call last)",
      "\u001b[0;32m<ipython-input-1-a6d566061c52>\u001b[0m in \u001b[0;36m<module>\u001b[0;34m\u001b[0m\n\u001b[1;32m      2\u001b[0m \u001b[0;31m# path = \"/home/desenvolvedor2/Documentos/Python/horario_grafos/public/files/Escola_A.xlsx\"\u001b[0m\u001b[0;34m\u001b[0m\u001b[0;34m\u001b[0m\u001b[0;34m\u001b[0m\u001b[0m\n\u001b[1;32m      3\u001b[0m \u001b[0mpath\u001b[0m \u001b[0;34m=\u001b[0m \u001b[0;34m\"../public/files/Escola_A.xlsx\"\u001b[0m\u001b[0;34m\u001b[0m\u001b[0;34m\u001b[0m\u001b[0m\n\u001b[0;32m----> 4\u001b[0;31m \u001b[0mwbObj\u001b[0m \u001b[0;34m=\u001b[0m \u001b[0mopenpyxl\u001b[0m\u001b[0;34m.\u001b[0m\u001b[0mload_workbook\u001b[0m\u001b[0;34m(\u001b[0m\u001b[0mpath\u001b[0m\u001b[0;34m)\u001b[0m\u001b[0;34m\u001b[0m\u001b[0;34m\u001b[0m\u001b[0m\n\u001b[0m\u001b[1;32m      5\u001b[0m \u001b[0;34m\u001b[0m\u001b[0m\n\u001b[1;32m      6\u001b[0m \u001b[0mschollData\u001b[0m \u001b[0;34m=\u001b[0m \u001b[0mwbObj\u001b[0m\u001b[0;34m[\u001b[0m\u001b[0;34m'Dados'\u001b[0m\u001b[0;34m]\u001b[0m\u001b[0;34m\u001b[0m\u001b[0;34m\u001b[0m\u001b[0m\n",
      "\u001b[0;31mNameError\u001b[0m: name 'openpyxl' is not defined"
     ]
    }
   ],
   "source": [
    "\n",
    "#Abrindo a planilha\n",
    "# path = \"/home/desenvolvedor2/Documentos/Python/horario_grafos/public/files/Escola_A.xlsx\"\n",
    "path = \"../public/files/Escola_A.xlsx\"\n",
    "wbObj = openpyxl.load_workbook(path)\n",
    "\n",
    "schollData = wbObj['Dados']\n",
    "settings = wbObj['Configuracoes']\n",
    "classRestriction = wbObj['Restricoes Turma']\n",
    "teacherRestriction = wbObj['Restricao']"
   ]
  },
  {
   "cell_type": "markdown",
   "metadata": {},
   "source": [
    "<p>Criação dos horarios apartir da coluna configurações do arquivo</p>"
   ]
  },
  {
   "cell_type": "code",
   "execution_count": 15,
   "metadata": {},
   "outputs": [],
   "source": [
    "days_week = [\"Segunda\", \"Terça\", \"Quarta\", \"Quinta\", \"Sexta\"]\n",
    "schedules = []\n",
    "\n",
    "for day in days_week:\n",
    "    jump = True\n",
    "    for i, row in enumerate(settings.rows):\n",
    "        if(i > 0):\n",
    "            schedules.append(\"{} - {}\".format(day, row[0].value))"
   ]
  },
  {
   "cell_type": "markdown",
   "metadata": {},
   "source": [
    "<p>Para tratar as restrições de turma e professor, foi adicionado uma lista em cada vértice, contendo os índices do horário, referente a lista gerada acima, que o professor e a turma não podem ter.<p>"
   ]
  },
  {
   "cell_type": "markdown",
   "metadata": {},
   "source": [
    "<p>Instanciando e preenchendo lista de professores e turmas e adicionado as restrições da turma apartir da coluna Restrições turma que está no arquivo em uma lista e dicionário, respectivamente</p>"
   ]
  },
  {
   "cell_type": "code",
   "execution_count": 24,
   "metadata": {},
   "outputs": [],
   "source": [
    "# instanciando a lista de restrição de cada turma e de cada professor\n",
    "classes = []\n",
    "teachers = []\n",
    "#Colocando o os professores e turmas em uma lista\n",
    "for i, row in enumerate(schollData.rows):\n",
    "    if(i > 0):\n",
    "        if (not row[0].value in classes):\n",
    "            classes.append(row[0].value)\n",
    "\n",
    "        if (not row[2].value in classes):\n",
    "            teachers.append(row[2].value)\n",
    "allClassRestriction = []\n",
    "for i in range(len(classes)):\n",
    "    allClassRestriction.append([])\n",
    "\n",
    "for i, row in enumerate(classRestriction.rows):\n",
    "    if(i > 0):\n",
    "        scheduleRestriction = \"{} - {}\".format(row[2].value, row[1].value)\n",
    "        allClassRestriction[int(row[0].value) - 1].append(schedules.index(scheduleRestriction))"
   ]
  },
  {
   "cell_type": "markdown",
   "metadata": {},
   "source": [
    "<p>Adicionado as restrições dos professores apartir da coluna Restrições turma que está no arquivo em uma lista e dicionário, respectivamente</p>"
   ]
  },
  {
   "cell_type": "code",
   "execution_count": 25,
   "metadata": {},
   "outputs": [],
   "source": [
    "allTeacherRestriction = {}\n",
    "for teacher in teachers:\n",
    "    allTeacherRestriction[teacher] = []\n",
    "\n",
    "for i, row in enumerate(teacherRestriction.rows):\n",
    "    if(i > 0):\n",
    "        scheduleRestriction = \"{} - {}\".format(row[2].value, row[1].value)\n",
    "        allTeacherRestriction[row[0].value].append(schedules.index(scheduleRestriction))"
   ]
  },
  {
   "cell_type": "markdown",
   "metadata": {},
   "source": [
    "<h2>Lista dos vertices</h2>\n",
    "<p>Criação dos vértices que contém as informações da aula e adicionando todos os vértices em uma lista, tal vertice contém os seguintes atributos: identificador, matéria, turma, professor, lista com restrição da turma e lista com restrição do professor</p>"
   ]
  },
  {
   "cell_type": "code",
   "execution_count": 26,
   "metadata": {},
   "outputs": [],
   "source": [
    "import openpyxl\n",
    "class VertexData(object):\n",
    "    def __init__(self, vertexDataId, subject, schoolClass, teacher, classRestriction, teacherRestriction):\n",
    "        self.vertexDataId, self.subject, self.schoolClass, self.teacher = vertexDataId, subject, schoolClass, teacher\n",
    "        self.classRestriction = classRestriction\n",
    "        self.teacherRestriction = teacherRestriction\n",
    "        self.adjacents, self.schedule_id, self.saturation = [], None, -1"
   ]
  },
  {
   "cell_type": "markdown",
   "metadata": {},
   "source": [
    "<p>Inicializando a lista de vértice e uma lista dos identificadores de cada vertice não coloridos, e n para 0, n no final do algoritimo será o numero de vértices e durante a execução do algoritimo será o id do vertice</p>"
   ]
  },
  {
   "cell_type": "code",
   "execution_count": 27,
   "metadata": {},
   "outputs": [],
   "source": [
    "vertex = []\n",
    "vertexListId = []\n",
    "n = 0\n",
    "# Criando os vértices e adicionando todos os vértices em uma lista\n",
    "# Cria um vértice com os um identificador, matéria, turma, professor,\n",
    "# lista com restrição da turma e lista com restrição do professor.\n",
    "# De acordo com a quantidade de aulas desta matéria, com o mesmo professor e turma\n",
    "# e criado um vértice com as mesmas informações\n",
    "for i, row in enumerate(schollData.rows):\n",
    "    if(i > 0):\n",
    "        numberClasses = int(row[3].value)\n",
    "        for i in range(numberClasses):\n",
    "            vertexListId.append(n)\n",
    "            vertexData = VertexData(n, row[0].value, row[1].value, row[2].value, allClassRestriction[int(row[1].value) - 1], allTeacherRestriction[row[2].value])\n",
    "            vertex.append(vertexData)\n",
    "            n += 1"
   ]
  },
  {
   "cell_type": "markdown",
   "metadata": {},
   "source": [
    "<h1>Criando as ligações do vértice</h1>\n",
    "<p>Adiciona arestas ligando os vértice que possuem a mesma sala de aula e o mesmo professor com identificadores diferentes.</p>"
   ]
  },
  {
   "cell_type": "code",
   "execution_count": 31,
   "metadata": {},
   "outputs": [],
   "source": [
    "# Criando as arestas do grafo.\n",
    "# Adiciona os vértices vizinhos em uma lista contendo os vértices adjacente do mesmo.\n",
    "for v1 in vertex:\n",
    "    for v2 in vertex:\n",
    "        if(v1.vertexDataId != v2.vertexDataId and (v1.schoolClass == v2.schoolClass or v1.teacher == v2.teacher)):\n",
    "            v1.adjacents.append(v2)\n",
    "            v2.adjacents.append(v1)"
   ]
  },
  {
   "cell_type": "markdown",
   "metadata": {},
   "source": [
    "<h1>Coloração</h1>\n",
    "<p>O algoritmo conhecido como algoritmo DSATUR foi tirado como base para a implementação deste trabalho.</p>"
   ]
  },
  {
   "cell_type": "code",
   "execution_count": 30,
   "metadata": {},
   "outputs": [],
   "source": [
    "# Algoritmo de coloração feito com base no algoritmo de Dsatur\n",
    "colors = []\n",
    "while(len(vertexListId) > 0):\n",
    "    # Primeiro realiza uma busca para pegar o vértice com o maior número de saturação\n",
    "    # ou caso o maior valor de saturação seja repetido com o maior grau.\n",
    "    maxVertex = vertex[vertexListId[0]]\n",
    "    for index in vertexListId:\n",
    "        if(vertex[index].saturation > maxVertex.saturation or (vertex[index].saturation == maxVertex.saturation\n",
    "            and len(vertex[index].adjacents) > len(maxVertex.adjacents))):\n",
    "            maxVertex = vertex[index]\n",
    "    # Colorindo o vértice com a menor cor possível, levando em consideração a restrição\n",
    "    # de horário da turma e do professor e que nenhum dos seus adjacentes tenha a mesma\n",
    "    # cor.\n",
    "    color = 0\n",
    "    colorValidate = False\n",
    "    while(not colorValidate):\n",
    "        colorValidate = True\n",
    "        if(color in maxVertex.classRestriction or color in maxVertex.teacherRestriction):\n",
    "            colorValidate = False\n",
    "            color += 1\n",
    "        else:\n",
    "            for adjacent in maxVertex.adjacents:\n",
    "                if(adjacent.schedule_id == color):\n",
    "                    colorValidate = False\n",
    "                    color += 1\n",
    "    maxVertex.schedule_id = color\n",
    "    # Aumentando o grau de saturação dos vértices adjacentes ao vértice pintado\n",
    "    for adjacent in maxVertex.adjacents:\n",
    "        adjacent.saturation += 1\n",
    "    # Adicionando em uma lista as cores utilizadas na coloração dos vértices\n",
    "    if(not color in colors):\n",
    "        colors.append(color)\n",
    "    # Remove da lista de vértices ainda não coloridos o vértice que foi colorido\n",
    "    vertexListId.remove(maxVertex.vertexDataId)"
   ]
  },
  {
   "cell_type": "markdown",
   "metadata": {},
   "source": [
    "<h2>Encontrando a cor possível</h2>\n",
    "<p>Na linha 1 inicializamos a lista de cores como vázia, na linha 2 ocorre um laço que corresponde ao numero de vezes. Da linha 5 a 9 é realizada uma busca para extrair o vértice com o maior grau de saturação. Na linha 13 inicializa a cor que será usada como 0, na linha 14 setá a cor como não válida, na linha 15 ocorre um laço que irá ocorrer até achar uma cor válida, na linha 16 seta a cor para uma cor válida, na linha 17 verifica se a cor está na lista de restrição de turma e professores, caso a cor estiver em pelo menos uma na linha 18 a cor passa a não ser válida e na linha 19 incrementa a cor, caso não estiver na linha 21 irá ocorrer um laço por toda lista de adjacência do vértice de maior grau, na linha 22 verifica se o horário é igual a cor do vértice adjacênte ao vertice de maior grau, caso ele seja significa que um dos adjacêntes do vértice maior grau já ocupa o horário correspondente a cor, então na linha 23 a cor passa a ser não válida e a cor é incrementado.</p>"
   ]
  },
  {
   "cell_type": "markdown",
   "metadata": {},
   "source": [
    "<h2>Atribuindo horarios</h2>\n",
    "<p>Na linha 24 atribui o horario para o vertice de maior grau com base no número da cor correspondentes das linhas 1 - 23, na linha 25 ocorre um laço para todos os adjacêntes do vértice de maior grau, na linha 26 é incrementando a saturação de cada um deles.</p>\n",
    "<h2>Lista de cores</h2>\n",
    "<p>Na linha 27 verifica se a cor está na lista de cores, caso não esteja, a cor é adicionada na lista de cores. Na linha 28</p>\n",
    "<p>Linha 30 o vértice de maior grau é removido da lista de vértice não coloridos.<p>\n"
   ]
  },
  {
   "cell_type": "markdown",
   "metadata": {},
   "source": [
    "<h1>Algoritimo de melhoramento</h1>"
   ]
  },
  {
   "cell_type": "code",
   "execution_count": null,
   "metadata": {},
   "outputs": [],
   "source": [
    "<p></p>"
   ]
  },
  {
   "cell_type": "markdown",
   "metadata": {},
   "source": [
    "<h2>Lista de cores utilizadas</h2>\n",
    "<p>Na linha 28 é verificado de a cor já está na lista de cores, caso não esteja adiciona a cor na lista na linha 29. Na linha 31 o vertice é removido dos vertices não coloridos</p>"
   ]
  },
  {
   "cell_type": "markdown",
   "metadata": {},
   "source": [
    "<h1>Lista com cores usadas pelos vértices</h1>"
   ]
  },
  {
   "cell_type": "code",
   "execution_count": null,
   "metadata": {},
   "outputs": [],
   "source": [
    "# Gera uma lista com a cores que estão sendo usadas pelos vértices\n",
    "colors = []\n",
    "for v in vertex:\n",
    "    if(not v.schedule_id in colors):\n",
    "        colors.append(v.schedule_id)"
   ]
  },
  {
   "cell_type": "markdown",
   "metadata": {},
   "source": [
    "<p>imprime o número de cores</p>"
   ]
  },
  {
   "cell_type": "code",
   "execution_count": null,
   "metadata": {},
   "outputs": [],
   "source": [
    "print(\"Número de cores:\", len(colors))"
   ]
  },
  {
   "cell_type": "markdown",
   "metadata": {},
   "source": [
    "<h1>Horários</h1>"
   ]
  },
  {
   "cell_type": "code",
   "execution_count": null,
   "metadata": {},
   "outputs": [],
   "source": [
    "# Exibe no tela os vértices, separados pelo horário (cor)\n",
    "notColoring = []\n",
    "for i, color in enumerate(colors):\n",
    "    if(i < len(schedules)):\n",
    "        print(schedules[i])\n",
    "        for v in vertex:\n",
    "            if(v.schedule_id == color) :\n",
    "                print(v.schedule_id, \" / Matéria\", v.subject, \"/ \", v.teacher, \"/ Turma\", v.schoolClass)\n",
    "    else:\n",
    "        notColoring.append(v)\n"
   ]
  },
  {
   "cell_type": "code",
   "execution_count": null,
   "metadata": {},
   "outputs": [],
   "source": [
    "<h1>Complexidade</h1>"
   ]
  },
  {
   "cell_type": "markdown",
   "metadata": {},
   "source": [
    "<h1>Tecnologia utilizadas:</h1>\n",
    "<p><strong>Python: </strong>é uma linguagem de programação que permite trabalhar mais rapidamente e integrar seus sistemas com mais eficiência.</p>\n",
    "<p><strong>Openpyxl: </strong> é uma biblioteca Python para ler/gravar arquivos xlsx/xlsm/xltx/xltm do Excel.</p>\n"
   ]
  },
  {
   "cell_type": "markdown",
   "metadata": {},
   "source": [
    "\n"
   ]
  },
  {
   "cell_type": "code",
   "execution_count": null,
   "metadata": {},
   "outputs": [],
   "source": []
  },
  {
   "cell_type": "code",
   "execution_count": null,
   "metadata": {},
   "outputs": [],
   "source": []
  },
  {
   "cell_type": "code",
   "execution_count": null,
   "metadata": {},
   "outputs": [],
   "source": []
  }
 ],
 "metadata": {
  "kernelspec": {
   "display_name": "Python 3",
   "language": "python",
   "name": "python3"
  },
  "language_info": {
   "codemirror_mode": {
    "name": "ipython",
    "version": 3
   },
   "file_extension": ".py",
   "mimetype": "text/x-python",
   "name": "python",
   "nbconvert_exporter": "python",
   "pygments_lexer": "ipython3",
   "version": "3.6.8"
  }
 },
 "nbformat": 4,
 "nbformat_minor": 2
}
